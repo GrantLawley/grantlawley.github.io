{
 "cells": [
  {
   "cell_type": "code",
   "execution_count": 1,
   "metadata": {},
   "outputs": [],
   "source": [
    "import numpy as np\n",
    "\n",
    "def relu(x):\n",
    "    return np.maximum(0, x)\n",
    "\n",
    "def softmax(x):\n",
    "    e_x = np.exp(x - np.max(x))\n",
    "    return e_x / e_x.sum(axis=0)\n",
    "\n",
    "class Network(object):\n",
    "\n",
    "    def __init__(self, layer_dims, activations):\n",
    "        if len(layer_dims) - 1 != len(activations):\n",
    "            raise ValueError(\"Number of layers and activation functions do not match.\")\n",
    "\n",
    "        self.layer_dims = layer_dims\n",
    "        self.activations = activations\n",
    "        self.initialize_parameters()\n",
    "\n",
    "    def initialize_parameters(self):\n",
    "        self.weights = []\n",
    "        self.biases = []\n",
    "        for i in range(1, len(self.layer_dims)):\n",
    "            self.weights.append(np.random.normal(size=(self.layer_dims[i], self.layer_dims[i-1])))\n",
    "            self.biases.append(np.random.normal(size=(self.layer_dims[i])))\n",
    "\n",
    "    def forward(self, x):\n",
    "        for w, b, activation in zip(self.weights, self.biases, self.activations):\n",
    "            x = activation(np.dot(w, x) + b)\n",
    "        return x\n",
    "\n",
    "    def loss(self, y_pred, y_true):\n",
    "        y_pred = np.clip(y_pred, 1e-9, 1 - 1e-9)\n",
    "        loss = -np.sum(y_true * np.log(y_pred))\n",
    "        return loss / y_true.shape[0]\n",
    "\n",
    "    def backpropagate(self):\n",
    "        \n",
    "        pass\n",
    "\n",
    "# Example usage\n",
    "layer_dimensions = [784, 512, 256, 128, 64, 32, 16, 10]\n",
    "activations = [relu, relu, relu, relu, relu, relu, softmax]\n",
    "net = Network(layer_dimensions, activations)"
   ]
  },
  {
   "cell_type": "code",
   "execution_count": 5,
   "metadata": {},
   "outputs": [
    {
     "data": {
      "text/plain": [
       "(512, 784)"
      ]
     },
     "execution_count": 5,
     "metadata": {},
     "output_type": "execute_result"
    }
   ],
   "source": [
    "net.weights[0].shape"
   ]
  }
 ],
 "metadata": {
  "kernelspec": {
   "display_name": "base",
   "language": "python",
   "name": "python3"
  },
  "language_info": {
   "codemirror_mode": {
    "name": "ipython",
    "version": 3
   },
   "file_extension": ".py",
   "mimetype": "text/x-python",
   "name": "python",
   "nbconvert_exporter": "python",
   "pygments_lexer": "ipython3",
   "version": "3.11.4"
  }
 },
 "nbformat": 4,
 "nbformat_minor": 2
}
